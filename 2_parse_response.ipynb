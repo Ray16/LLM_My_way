{
 "cells": [
  {
   "cell_type": "code",
   "execution_count": 2,
   "metadata": {},
   "outputs": [],
   "source": [
    "import re\n",
    "import pandas as pd"
   ]
  },
  {
   "cell_type": "code",
   "execution_count": 23,
   "metadata": {},
   "outputs": [],
   "source": [
    "response = open('response.txt').readlines()\n",
    "x_coord = [float(re.findall('[0-9].+[0-9]*',line.split()[0])[0]) for line in response if '[' in line]\n",
    "y_coord = [float(re.findall('[0-9].+[0-9]*',line.split()[1])[0]) for line in response if '[' in line]\n",
    "z_coord = [float(re.findall('[0-9].+[0-9]*',line.split()[2])[0].split(']')[0]) for line in response if '[' in line]"
   ]
  },
  {
   "cell_type": "code",
   "execution_count": 30,
   "metadata": {},
   "outputs": [],
   "source": [
    "xyz = [[x_coord[idx],y_coord[idx],z_coord[idx]] for idx in range(len(x_coord))]"
   ]
  },
  {
   "cell_type": "code",
   "execution_count": 37,
   "metadata": {},
   "outputs": [],
   "source": [
    "with open('response_xyz.xyz','w+') as f:\n",
    "    for line in xyz:\n",
    "        f.write(str(line)+'\\n')"
   ]
  },
  {
   "cell_type": "code",
   "execution_count": null,
   "metadata": {},
   "outputs": [],
   "source": []
  }
 ],
 "metadata": {
  "kernelspec": {
   "display_name": "base",
   "language": "python",
   "name": "python3"
  },
  "language_info": {
   "codemirror_mode": {
    "name": "ipython",
    "version": 3
   },
   "file_extension": ".py",
   "mimetype": "text/x-python",
   "name": "python",
   "nbconvert_exporter": "python",
   "pygments_lexer": "ipython3",
   "version": "3.10.8"
  }
 },
 "nbformat": 4,
 "nbformat_minor": 2
}
