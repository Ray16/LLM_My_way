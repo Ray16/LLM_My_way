{
 "cells": [
  {
   "cell_type": "code",
   "execution_count": null,
   "metadata": {},
   "outputs": [
    {
     "name": "stdout",
     "output_type": "stream",
     "text": [
      "Written to LIFT_paper.pdf_output.txt\n"
     ]
    }
   ],
   "source": [
    "from openai import OpenAI\n",
    "from dotenv import load_dotenv\n",
    "from glob import glob\n",
    "import os\n",
    "import PyPDF2\n",
    "\n",
    "# Load environment variables from .env file\n",
    "load_dotenv()\n",
    "\n",
    "# Get API key from environment variable\n",
    "api_key = os.getenv(\"API_KEY\")\n",
    "\n",
    "# Instantiate API client\n",
    "client = OpenAI(api_key=api_key)\n",
    "\n",
    "os.makedirs('output',exist_ok=True)\n",
    "\n",
    "def summarize_pdf(pdf_path):\n",
    "\n",
    "    # Open PDF file\n",
    "    with open(pdf_path, 'rb') as file:\n",
    "\n",
    "        # Create a PDF reader object\n",
    "        pdf_reader = PyPDF2.PdfReader(file)\n",
    "\n",
    "        # Initialize an empty string to store the extracted text\n",
    "        text = \"\"\n",
    "\n",
    "        # Iterate over PDF pages\n",
    "        for page in pdf_reader.pages:\n",
    "            # Add text to string\n",
    "            text += page.extract_text()\n",
    "\n",
    "    # Create a chat completion task to summarize the extracted text\n",
    "    completion = client.chat.completions.create(\n",
    "        model=\"gpt-3.5-turbo\",\n",
    "        messages=[\n",
    "            {\"role\": \"system\", \"content\":\n",
    "             f\"{text}\"},\n",
    "            {\"role\": \"user\", \"content\": \"Read the paper, and summarize in 50 words each about the following:\\n\\n1. Background\\n2. Challenge\\n3. Current status\\n4. Method\\n5. Result\\n6. Conclusion\\n7. Outlook\\n\"}\n",
    "        ]\n",
    "    )\n",
    "\n",
    "    # Open a file in write mode\n",
    "    with open(os.path.join(\"output\",\"f{pdf_path}_output.txt\"), \"w\") as file:\n",
    "        # Write output to file\n",
    "        file.write(completion.choices[0].message.content)\n",
    "\n",
    "    print(f\"Written to {pdf_path}_output.txt\")\n",
    "\n",
    "# summarize pdf\n",
    "for in glob('pdf/*.pdf'):\n",
    "    pdf_path = os.path.join(\"LIFT_paper.pdf\")\n",
    "    summarize_pdf(pdf_path)"
   ]
  },
  {
   "cell_type": "code",
   "execution_count": null,
   "metadata": {},
   "outputs": [],
   "source": [
    "\"\""
   ]
  }
 ],
 "metadata": {
  "kernelspec": {
   "display_name": "env",
   "language": "python",
   "name": "python3"
  },
  "language_info": {
   "codemirror_mode": {
    "name": "ipython",
    "version": 3
   },
   "file_extension": ".py",
   "mimetype": "text/x-python",
   "name": "python",
   "nbconvert_exporter": "python",
   "pygments_lexer": "ipython3",
   "version": "3.9.6"
  }
 },
 "nbformat": 4,
 "nbformat_minor": 2
}
