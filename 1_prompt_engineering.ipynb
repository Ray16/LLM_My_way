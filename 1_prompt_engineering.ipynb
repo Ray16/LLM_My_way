{
 "cells": [
  {
   "cell_type": "code",
   "execution_count": 3,
   "metadata": {},
   "outputs": [],
   "source": [
    "import pandas as pd\n",
    "\n",
    "data = pd.read_csv('structure_energy.csv')\n",
    "\n",
    "structure = data['xyz'][:50]\n",
    "\n",
    "energies = data['E'][:50]"
   ]
  },
  {
   "cell_type": "code",
   "execution_count": 13,
   "metadata": {},
   "outputs": [],
   "source": [
    "# chat completion\n",
    "from openai import OpenAI\n",
    "client = OpenAI(api_key='')\n",
    "\n",
    "completion = client.chat.completions.create(\n",
    "  model=\"gpt-3.5-turbo\",\n",
    "  messages=[\n",
    "    {\"role\": \"system\", \"content\":\n",
    "     f\"You are a bot that can generate new structures and energies given existing structures and energies. Here is input file {str(structure)}. Here are the corresponding energies {str(energies)}.The Ar atoms 2.5 nm. Argon atoms interact via Lennard Jones potetial. The Lennard Jones parameters of Argon atoms: epsilon is 1.65zJ and sigma is 0.34nm.\"},\n",
    "    {\"role\": \"user\", \"content\": \"Generate a new random structure with 100 atoms, with the corresponding energy.\"}\n",
    "  ]\n",
    ")\n",
    "\n",
    "response = completion.choices[0].message.content\n",
    "with open('response.txt','w+') as f:\n",
    "    f.write(response)"
   ]
  },
  {
   "cell_type": "code",
   "execution_count": null,
   "metadata": {},
   "outputs": [],
   "source": []
  }
 ],
 "metadata": {
  "kernelspec": {
   "display_name": "llm_hackathon",
   "language": "python",
   "name": "python3"
  },
  "language_info": {
   "codemirror_mode": {
    "name": "ipython",
    "version": 3
   },
   "file_extension": ".py",
   "mimetype": "text/x-python",
   "name": "python",
   "nbconvert_exporter": "python",
   "pygments_lexer": "ipython3",
   "version": "3.10.8"
  }
 },
 "nbformat": 4,
 "nbformat_minor": 2
}
