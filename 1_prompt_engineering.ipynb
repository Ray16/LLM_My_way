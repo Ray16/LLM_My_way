{
 "cells": [
  {
   "cell_type": "code",
   "execution_count": 2,
   "metadata": {},
   "outputs": [],
   "source": [
    "import pandas as pd\n",
    "\n",
    "data = pd.read_csv('structure_energy.csv')\n",
    "\n",
    "structure_to_text = data['xyz'][:50]\n",
    "\n",
    "energies = data['E'][:50]"
   ]
  },
  {
   "cell_type": "code",
   "execution_count": 20,
   "metadata": {},
   "outputs": [
    {
     "name": "stdout",
     "output_type": "stream",
     "text": [
      "One of the most important things in leadership is effective communication. Good communication helps leaders convey their vision, goals, and expectations clearly to their team. It also fosters transparency, builds trust, and promotes collaboration within the team. Additionally, listening actively to team members and being open to feedback are important aspects of effective communication in leadership.\n"
     ]
    }
   ],
   "source": [
    "# chat completion\n",
    "from openai import OpenAI\n",
    "client = OpenAI(api_key='sk-proj-euUDvjbncwlGSzLQ7xHWT3BlbkFJAp3j08fh445EsETJxN10')\n",
    "\n",
    "completion = client.chat.completions.create(\n",
    "  model=\"gpt-3.5-turbo\",\n",
    "  messages=[\n",
    "    {\"role\": \"system\", \"content\": \"The input file contains 1000. Ar atoms 2.5 nm. The equation of Lennard Jones potetial is . For Argon, epsilon is 1.65zJ and sigma is 0.34nm.\"},\n",
    "    {\"role\": \"user\", \"content\": \"Return a new structure with 100 atoms, with the corresponding energy in the xyz format.\"}\n",
    "  ]\n",
    ")\n",
    "\n",
    "response = completion.choices[0].message.content\n",
    "print(response)"
   ]
  },
  {
   "cell_type": "code",
   "execution_count": null,
   "metadata": {},
   "outputs": [],
   "source": []
  }
 ],
 "metadata": {
  "kernelspec": {
   "display_name": "llm_hackathon",
   "language": "python",
   "name": "python3"
  },
  "language_info": {
   "codemirror_mode": {
    "name": "ipython",
    "version": 3
   },
   "file_extension": ".py",
   "mimetype": "text/x-python",
   "name": "python",
   "nbconvert_exporter": "python",
   "pygments_lexer": "ipython3",
   "version": "3.10.8"
  }
 },
 "nbformat": 4,
 "nbformat_minor": 2
}
